{
 "cells": [
  {
   "cell_type": "markdown",
   "id": "0998ffef-009b-4d3d-8bec-d868ab30468b",
   "metadata": {},
   "source": [
    "# 🤯 Last 5 Minutes\n",
    "\n",
    "Optimization and agent -- why optimization is important\n",
    "\n",
    "\n",
    "Let's look at another coding problem (adapted from [LeetCode](https://leetcode.com/)):\n",
    "\n",
    "**Problem**: Given an input of a Python list of list, which represents a map, where `1` represents land and `0` represents water, can we count how many unique islands are on this map?\n",
    "\n",
    "```\n",
    "Input: island = [\n",
    "  [\"1\",\"1\",\"1\",\"1\",\"0\"],\n",
    "  [\"1\",\"1\",\"0\",\"1\",\"0\"],\n",
    "  [\"1\",\"1\",\"0\",\"0\",\"0\"],\n",
    "  [\"0\",\"0\",\"0\",\"0\",\"0\"]\n",
    "]\n",
    "Output: 1\n",
    "Example 2:\n",
    "\n",
    "Input: island = [\n",
    "  [\"1\",\"1\",\"0\",\"0\",\"0\"],\n",
    "  [\"1\",\"1\",\"0\",\"0\",\"0\"],\n",
    "  [\"0\",\"0\",\"1\",\"0\",\"0\"],\n",
    "  [\"0\",\"0\",\"0\",\"1\",\"1\"]\n",
    "]\n",
    "Output: 3\n",
    "```\n",
    "\n",
    "Oftentimes, these problems come with unit tests. However, these unit tests are not exhaustive and there can be hidden tests as well. In fact, can we write a self-evolving system to help improve a code-generation agent's behavior?"
   ]
  },
  {
   "cell_type": "code",
   "execution_count": null,
   "id": "1829e861-ca26-44d7-b086-cfa7bee82f88",
   "metadata": {},
   "outputs": [],
   "source": []
  }
 ],
 "metadata": {
  "kernelspec": {
   "display_name": "verbal-gym",
   "language": "python",
   "name": "verbal-gym"
  },
  "language_info": {
   "codemirror_mode": {
    "name": "ipython",
    "version": 3
   },
   "file_extension": ".py",
   "mimetype": "text/x-python",
   "name": "python",
   "nbconvert_exporter": "python",
   "pygments_lexer": "ipython3",
   "version": "3.8.18"
  }
 },
 "nbformat": 4,
 "nbformat_minor": 5
}
