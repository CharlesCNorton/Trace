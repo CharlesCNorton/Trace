{
 "cells": [
  {
   "cell_type": "markdown",
   "id": "6efc2727e308855d",
   "metadata": {
    "collapsed": false
   },
   "source": [
    "# 🚀 Next 5 Minutes"
   ]
  },
  {
   "cell_type": "code",
   "execution_count": null,
   "id": "fb6d7b470a57d80a",
   "metadata": {
    "collapsed": false
   },
   "outputs": [],
   "source": []
  }
 ],
 "metadata": {
  "kernelspec": {
   "display_name": "Python 3",
   "language": "python",
   "name": "python3"
  },
  "language_info": {
   "codemirror_mode": {
    "name": "ipython",
    "version": 2
   },
   "file_extension": ".py",
   "mimetype": "text/x-python",
   "name": "python",
   "nbconvert_exporter": "python",
   "pygments_lexer": "ipython2",
   "version": "2.7.6"
  }
 },
 "nbformat": 4,
 "nbformat_minor": 5
}